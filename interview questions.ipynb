{
 "cells": [
  {
   "cell_type": "code",
   "execution_count": null,
   "id": "940dbaea",
   "metadata": {},
   "outputs": [],
   "source": [
    "# Storing API data in a variable\n",
    "\n",
    "from urllib.request import urlopen\n",
    "  \n",
    "\n",
    "import json\n",
    "url = \"https://api.trademe.co.nz/v1/Categories/MotorBikes.json\"\n",
    "  \n",
    "# store the response of URL\n",
    "response = urlopen(url)\n",
    "  \n",
    "# storing the JSON response \n",
    "# from url in data\n",
    "result = json.loads(response.read())\n"
   ]
  },
  {
   "cell_type": "code",
   "execution_count": null,
   "id": "920e62df",
   "metadata": {},
   "outputs": [],
   "source": [
    "result"
   ]
  },
  {
   "cell_type": "code",
   "execution_count": null,
   "id": "089f3218",
   "metadata": {},
   "outputs": [],
   "source": [
    "# Multiply only common elements in below list.\n",
    "\n",
    "list1 = [3,5,7,8]\n",
    "list2 = [3,4,7,8]\n",
    "\n",
    "list3 = [ a*b for a,b in zip(list1,list2) if a==b]"
   ]
  },
  {
   "cell_type": "code",
   "execution_count": null,
   "id": "b761f311",
   "metadata": {},
   "outputs": [],
   "source": [
    "list3"
   ]
  },
  {
   "cell_type": "code",
   "execution_count": null,
   "id": "f11737a3",
   "metadata": {},
   "outputs": [],
   "source": [
    "#OR\n",
    "\n",
    "list1 = [3,5,7,8]\n",
    "list2 = [3,4,7,8]\n",
    "\n",
    "list3 = list(zip(list1,list2))\n",
    "\n",
    "result = []\n",
    "\n",
    "for a,b in list3:\n",
    "    if a == b:\n",
    "        multi = a*b\n",
    "        result.append(multi)"
   ]
  },
  {
   "cell_type": "code",
   "execution_count": null,
   "id": "d074f36b",
   "metadata": {},
   "outputs": [],
   "source": [
    "result"
   ]
  },
  {
   "cell_type": "code",
   "execution_count": null,
   "id": "16d2dec7",
   "metadata": {},
   "outputs": [],
   "source": []
  },
  {
   "cell_type": "code",
   "execution_count": null,
   "id": "a311f97f",
   "metadata": {},
   "outputs": [],
   "source": [
    "# Calendar"
   ]
  },
  {
   "cell_type": "code",
   "execution_count": null,
   "id": "3f62b93d",
   "metadata": {},
   "outputs": [],
   "source": [
    "import calendar\n",
    "\n",
    "year = int(input(\" Enter the year : \"))\n",
    "month = int(input(\"Enter the month : \"))\n",
    "\n",
    "result = calendar.month(year,month)\n",
    "print(result)"
   ]
  },
  {
   "cell_type": "code",
   "execution_count": null,
   "id": "a24eac43",
   "metadata": {},
   "outputs": [],
   "source": []
  },
  {
   "cell_type": "code",
   "execution_count": null,
   "id": "2fe33601",
   "metadata": {},
   "outputs": [],
   "source": [
    "# creating Harmonic Series"
   ]
  },
  {
   "cell_type": "code",
   "execution_count": 1,
   "id": "b0b899eb",
   "metadata": {},
   "outputs": [],
   "source": [
    "def harmonic(n):\n",
    "\n",
    "    s = 0\n",
    "\n",
    "    for i in range(1,n+1):\n",
    "        s = s + 1/i\n",
    "    \n",
    "        \n",
    "    return s"
   ]
  },
  {
   "cell_type": "code",
   "execution_count": 3,
   "id": "757a5221",
   "metadata": {},
   "outputs": [
    {
     "data": {
      "text/plain": [
       "2.9289682539682538"
      ]
     },
     "execution_count": 3,
     "metadata": {},
     "output_type": "execute_result"
    }
   ],
   "source": [
    "harmonic(10)"
   ]
  },
  {
   "cell_type": "code",
   "execution_count": null,
   "id": "3903d82d",
   "metadata": {},
   "outputs": [],
   "source": []
  },
  {
   "cell_type": "code",
   "execution_count": null,
   "id": "5508aadc",
   "metadata": {},
   "outputs": [],
   "source": [
    "# Program to count no of lines,no of words and no of characters in a file"
   ]
  },
  {
   "cell_type": "code",
   "execution_count": 27,
   "id": "a96568c8",
   "metadata": {},
   "outputs": [
    {
     "name": "stdout",
     "output_type": "stream",
     "text": [
      "4\n",
      "12\n",
      "43\n"
     ]
    }
   ],
   "source": [
    "with open('newtext.txt', 'r') as file:\n",
    "    \n",
    "    lines = file.readlines()\n",
    "    no_lines = len(lines)  \n",
    "    \n",
    "    \n",
    "    join_lines = ' '.join(lines)\n",
    "    \n",
    "    split_words = join_lines.split()\n",
    "    no_words = len(split_words)\n",
    "   \n",
    "    \n",
    "    char = ' '.join(split_words)\n",
    "    join_char = char.replace(' ','')\n",
    "#     print(join_char)\n",
    "    no_char = len(join_char)\n",
    "    \n",
    "    \n",
    "    \n",
    "print(no_lines)\n",
    "print(no_words)\n",
    "print(no_char)"
   ]
  },
  {
   "cell_type": "code",
   "execution_count": 28,
   "id": "14e68159",
   "metadata": {},
   "outputs": [
    {
     "name": "stdout",
     "output_type": "stream",
     "text": [
      "4\n",
      "12\n",
      "46\n"
     ]
    }
   ],
   "source": [
    "no_lines = 0\n",
    "no_words = 0\n",
    "no_char = 0\n",
    "\n",
    "\n",
    "file = open('newtext.txt', 'r') \n",
    "\n",
    "for line in file:\n",
    "    no_lines += 1\n",
    "        \n",
    "        \n",
    "    words = line.split()\n",
    "    no_words = no_words+len(words)\n",
    "    \n",
    "    \n",
    "file.seek(0)\n",
    "\n",
    "\n",
    "char = file.read().replace(' ','')\n",
    "# print(char)\n",
    "no_char = len(char)\n",
    "        \n",
    "        \n",
    "file.close()\n",
    "          \n",
    "    \n",
    "print(no_lines)\n",
    "print(no_words)\n",
    "print(no_char)"
   ]
  },
  {
   "cell_type": "code",
   "execution_count": null,
   "id": "63bfe653",
   "metadata": {},
   "outputs": [],
   "source": []
  }
 ],
 "metadata": {
  "kernelspec": {
   "display_name": "Python 3",
   "language": "python",
   "name": "python3"
  },
  "language_info": {
   "codemirror_mode": {
    "name": "ipython",
    "version": 3
   },
   "file_extension": ".py",
   "mimetype": "text/x-python",
   "name": "python",
   "nbconvert_exporter": "python",
   "pygments_lexer": "ipython3",
   "version": "3.8.8"
  }
 },
 "nbformat": 4,
 "nbformat_minor": 5
}
