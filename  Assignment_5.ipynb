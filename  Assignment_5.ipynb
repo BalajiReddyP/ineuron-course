{
 "cells": [
  {
   "cell_type": "code",
   "execution_count": null,
   "id": "b9f1d10e",
   "metadata": {},
   "outputs": [],
   "source": [
    "1. What does an empty dictionary's code look like?\n",
    "\n",
    "Answer:\n",
    "     \n",
    "        d = {}\n"
   ]
  },
  {
   "cell_type": "code",
   "execution_count": null,
   "id": "6e8c7d93",
   "metadata": {},
   "outputs": [],
   "source": [
    "2. What is the value of a dictionary value with the key 'foo' and the value 42?\n",
    "\n",
    "Answer:\n",
    "\n",
    "     d = {'foo':42}\n",
    "     \n",
    "     Here 'foo'is the key and 42 is the value\n",
    "    "
   ]
  },
  {
   "cell_type": "code",
   "execution_count": null,
   "id": "b7a19e23",
   "metadata": {},
   "outputs": [],
   "source": [
    "3. What is the most significant distinction between a dictionary and a list?\n",
    "\n",
    "Answer:\n",
    " \n",
    " List : List is a ordered sequence of items.\n",
    " Dict : Unordered sequence of items. Here data will be stored in 'key-value pairs'\n"
   ]
  },
  {
   "cell_type": "code",
   "execution_count": null,
   "id": "edbf3053",
   "metadata": {},
   "outputs": [],
   "source": [
    "4. What happens if you try to access spam['foo'] if spam is {'bar': 100}?\n",
    "\n",
    "Answer:\n",
    "\n",
    "This will give us an error because we dont have key named 'foo'. So we get a KeyError.\n"
   ]
  },
  {
   "cell_type": "markdown",
   "id": "bc865b62",
   "metadata": {},
   "source": [
    "5. If a dictionary is stored in spam, what is the difference between the expressions 'cat' in spam and\n",
    "'cat'in spam.keys()?\n",
    "\n",
    "Answer:\n",
    "\n"
   ]
  },
  {
   "cell_type": "code",
   "execution_count": 2,
   "id": "401008ad",
   "metadata": {},
   "outputs": [
    {
     "data": {
      "text/plain": [
       "True"
      ]
     },
     "execution_count": 2,
     "metadata": {},
     "output_type": "execute_result"
    }
   ],
   "source": [
    "spam ={'cat':100}\n",
    "\n",
    "'cat' in spam"
   ]
  },
  {
   "cell_type": "code",
   "execution_count": 4,
   "id": "021a93cb",
   "metadata": {},
   "outputs": [
    {
     "data": {
      "text/plain": [
       "True"
      ]
     },
     "execution_count": 4,
     "metadata": {},
     "output_type": "execute_result"
    }
   ],
   "source": [
    "'cat' in spam.keys()\n",
    "#There is no differnce, both check if 'cat' is key of the dictionary and if its a key, returns True."
   ]
  },
  {
   "cell_type": "markdown",
   "id": "4740b3bb",
   "metadata": {},
   "source": [
    "6.If a dictionary is stored in spam, what is the difference between the expressions 'cat' in spam and 'cat' in spam.values()?"
   ]
  },
  {
   "cell_type": "code",
   "execution_count": 6,
   "id": "cb574a6d",
   "metadata": {},
   "outputs": [
    {
     "data": {
      "text/plain": [
       "True"
      ]
     },
     "execution_count": 6,
     "metadata": {},
     "output_type": "execute_result"
    }
   ],
   "source": [
    "spam ={'cat':100}\n",
    "'cat' in spam"
   ]
  },
  {
   "cell_type": "code",
   "execution_count": 7,
   "id": "a927218b",
   "metadata": {},
   "outputs": [
    {
     "data": {
      "text/plain": [
       "False"
      ]
     },
     "execution_count": 7,
     "metadata": {},
     "output_type": "execute_result"
    }
   ],
   "source": [
    "spam ={'cat':100}\n",
    "'cat' in spam.values()\n",
    "\n",
    "#'cat' in spam checks whether there is a 'cat' key in the dictionary\n",
    "#'cat' in spam.values() checks whether there is a value 'cat' for one of the keys in spam."
   ]
  },
  {
   "cell_type": "markdown",
   "id": "2006ed11",
   "metadata": {},
   "source": [
    "7.What is a shortcut for the following code?\n",
    "\n",
    "if 'color'not in spam:\n",
    "spam['color'] = 'black'"
   ]
  },
  {
   "cell_type": "code",
   "execution_count": 8,
   "id": "1c0855be",
   "metadata": {},
   "outputs": [
    {
     "data": {
      "text/plain": [
       "{'cat': 100, 'color': 'black'}"
      ]
     },
     "execution_count": 8,
     "metadata": {},
     "output_type": "execute_result"
    }
   ],
   "source": [
    "spam ={'apple':100}\n",
    "spam.setdefault('color','black')\n",
    "spam"
   ]
  },
  {
   "cell_type": "markdown",
   "id": "cd47e354",
   "metadata": {},
   "source": [
    "8.How do you 'pretty print' dictionary values using which module and function?"
   ]
  },
  {
   "cell_type": "code",
   "execution_count": 10,
   "id": "c2361400",
   "metadata": {},
   "outputs": [],
   "source": [
    "import pprint\n",
    "dct = [ {'Name': 'Shiva', 'Age': '23', 'Country': 'India'},\n",
    "  {'Name': 'Anna', 'Age': '44', 'Country': 'China'},\n",
    "  {'Name': 'Joe', 'Age': '29', 'Country': 'UK'},\n",
    "  {'Name': 'Chumlee', 'Age': '35', 'Country': 'USA'}\n",
    "]"
   ]
  },
  {
   "cell_type": "code",
   "execution_count": 11,
   "id": "7f2face8",
   "metadata": {},
   "outputs": [
    {
     "name": "stdout",
     "output_type": "stream",
     "text": [
      "[{'Age': '23', 'Country': 'India', 'Name': 'Shiva'},\n",
      " {'Age': '44', 'Country': 'China', 'Name': 'Anna'},\n",
      " {'Age': '29', 'Country': 'UK', 'Name': 'Joe'},\n",
      " {'Age': '35', 'Country': 'USA', 'Name': 'Chumlee'}]\n"
     ]
    }
   ],
   "source": [
    "# printing with pprint()\n",
    "pprint.pprint(dct)"
   ]
  },
  {
   "cell_type": "code",
   "execution_count": 13,
   "id": "698321f2",
   "metadata": {},
   "outputs": [
    {
     "name": "stdout",
     "output_type": "stream",
     "text": [
      "[{'Name': 'Shiva', 'Age': '23', 'Country': 'India'}, {'Name': 'Anna', 'Age': '44', 'Country': 'China'}, {'Name': 'Joe', 'Age': '29', 'Country': 'UK'}, {'Name': 'Chumlee', 'Age': '35', 'Country': 'USA'}]\n"
     ]
    }
   ],
   "source": [
    "#Printing with print()\n",
    "print(dct)"
   ]
  },
  {
   "cell_type": "code",
   "execution_count": null,
   "id": "7a32f128",
   "metadata": {},
   "outputs": [],
   "source": []
  }
 ],
 "metadata": {
  "kernelspec": {
   "display_name": "Python 3",
   "language": "python",
   "name": "python3"
  },
  "language_info": {
   "codemirror_mode": {
    "name": "ipython",
    "version": 3
   },
   "file_extension": ".py",
   "mimetype": "text/x-python",
   "name": "python",
   "nbconvert_exporter": "python",
   "pygments_lexer": "ipython3",
   "version": "3.8.8"
  }
 },
 "nbformat": 4,
 "nbformat_minor": 5
}
