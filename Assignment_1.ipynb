{
 "cells": [
  {
   "cell_type": "markdown",
   "id": "054bbc3f",
   "metadata": {},
   "source": [
    "1. In the below elements which of them are values or an expression? eg:- values can be\n",
    "integer or string and expressions will be mathematical operators.\n",
    "\n",
    "\n",
    "Answers\n",
    "\n",
    "*      = Expressions\n",
    "'hello'= Value\n",
    "-87.8  = value\n",
    "-      = Expressions\n",
    "/      = Expressions\n",
    "+      = Expressions\n",
    "6      = Value\n"
   ]
  },
  {
   "cell_type": "markdown",
   "id": "15e89354",
   "metadata": {},
   "source": [
    "2. What is the difference between string and variable?\n",
    "\n",
    "Answer: \n",
    "\n",
    "Strings are data that we can use to fill up the variable.\n",
    "\n",
    "Variable is a characters that we use to store a data( it holds the value).Here python will reserve a memory to fill in data.\n",
    "\n",
    "   example :\n",
    "\n",
    "            X = 'Python'\n",
    "\n",
    "            In the above example X is a variable and it holds Python which is a string.\n"
   ]
  },
  {
   "cell_type": "markdown",
   "id": "860466f4",
   "metadata": {},
   "source": [
    "3. Describe three different data types.\n",
    "\n",
    "Answer:\n",
    "\n",
    "\n",
    "1. Int : It contains a integer values(either positive or negative). ex: x= 10\n",
    "\n",
    "2. Float : It contains floating point real numbers that stores decimal values. ex: x = 15.56\n",
    "\n",
    "3. Complex : It contains complex numbers specified as real and imaginary part.ex: x = 10+15i\n",
    "\n"
   ]
  },
  {
   "cell_type": "markdown",
   "id": "e6a007b3",
   "metadata": {},
   "source": [
    "4. What is an expression made up of? What do all expressions do?\n",
    "\n",
    "Answer:\n",
    "\n",
    "\n",
    "Expressions are made up of operators and operands. We have different types of expressions in python.\n",
    "According to their precedence they perform their mathematical calculations.\n",
    "\n"
   ]
  },
  {
   "cell_type": "markdown",
   "id": "2f3173ce",
   "metadata": {},
   "source": [
    "5.This assignment statements, like spam = 10. What is the difference between an\n",
    "expression and a statement?\n",
    "\n",
    "Answer:\n",
    "\n",
    "Expression is made up of values, containers, and mathematical operators (operands) and the statement is just like a command that a python interpreter executes like print.\n"
   ]
  },
  {
   "cell_type": "markdown",
   "id": "bc3eabdd",
   "metadata": {},
   "source": [
    "6. After running the following code, what does the variable bacon contain?\n",
    "bacon = 22\n",
    "bacon + 1\n",
    "\n",
    "Answer: 23\n"
   ]
  },
  {
   "cell_type": "markdown",
   "id": "f408f994",
   "metadata": {},
   "source": [
    "7. What should the values of the following two terms be?\n",
    "\n",
    "'spam' + 'spamspam'\n",
    "'spam' * 3\n",
    "\n",
    "Answer:\n",
    "\n",
    "Answer for both of them will be same\n",
    "\n",
    "'spamspamspam'\n",
    "'spamspamspam'"
   ]
  },
  {
   "cell_type": "markdown",
   "id": "4aaa87e5",
   "metadata": {},
   "source": [
    "8. Why is eggs a valid variable name while 100 is invalid?\n",
    "\n",
    "Answer:\n",
    "\n",
    "\n",
    "Because eggs is a string and 100 is a integer. We can't use integer as a variable name. \n"
   ]
  },
  {
   "cell_type": "markdown",
   "id": "1316c6e7",
   "metadata": {},
   "source": [
    "9. What three functions can be used to get the integer, floating-point number, or string\n",
    "version of a value?\n",
    "\n",
    "Answer: int(), float(), str()\n"
   ]
  },
  {
   "cell_type": "markdown",
   "id": "874a5edb",
   "metadata": {},
   "source": [
    "10. Why does this expression cause an error? How can you fix it?\n",
    "'I have eaten'+ 99 + 'burriots'\n",
    "\n",
    "Answer:\n",
    "\n",
    "Because 99 is an integer and integers cannot be concatenated with strings.\n",
    "\n",
    "To make it work, we have to do type casting.\n",
    "'I have eaten '+ str(99) + ' burriots'\n"
   ]
  },
  {
   "cell_type": "code",
   "execution_count": null,
   "id": "1b71fee6",
   "metadata": {},
   "outputs": [],
   "source": []
  }
 ],
 "metadata": {
  "kernelspec": {
   "display_name": "Python 3",
   "language": "python",
   "name": "python3"
  },
  "language_info": {
   "codemirror_mode": {
    "name": "ipython",
    "version": 3
   },
   "file_extension": ".py",
   "mimetype": "text/x-python",
   "name": "python",
   "nbconvert_exporter": "python",
   "pygments_lexer": "ipython3",
   "version": "3.8.8"
  }
 },
 "nbformat": 4,
 "nbformat_minor": 5
}
